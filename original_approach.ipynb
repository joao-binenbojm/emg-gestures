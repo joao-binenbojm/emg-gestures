{
 "cells": [
  {
   "attachments": {},
   "cell_type": "markdown",
   "metadata": {},
   "source": [
    "# EMG Hand Gesture Classification\n",
    "\n",
    "This notebook is used to explore the approaches from \"A Robust, Real-Time Control Scheme for\n",
    "Multifunction Myoelectric Control\" (Englehart & Hudgins, 2003), while using the data provided by the paper \"Latent Factors Limiting the Performance of sEMG-Interfaces\" (Lobov et al., 2018), recorded using a MYO Thalmic bracelet."
   ]
  },
  {
   "cell_type": "code",
   "execution_count": null,
   "metadata": {},
   "outputs": [],
   "source": [
    "import numpy as np\n",
    "import pandas as pd\n",
    "import matplotlib.pyplot as plt\n",
    "import scipy\n",
    "import os"
   ]
  },
  {
   "attachments": {},
   "cell_type": "markdown",
   "metadata": {},
   "source": [
    "### Data Preparation\n",
    "This section serves to take the raw data, and reshape it/preprocess it before any real analysis being carried out.\n",
    "- Data structure: dictionary of lists (keys are subject number), with lists each containing two dataframes corresponding to individual series"
   ]
  },
  {
   "cell_type": "code",
   "execution_count": null,
   "metadata": {},
   "outputs": [],
   "source": [
    "DIR = '../' # where data directories are found relative to code\n",
    "exclude = [3, 7, 8, 9, 10, 11, 12, 13, 15, 16, 18, 19, 20, 23, 27, 35] # exclude these subjects due to ADC saturation \n",
    "DIR_SJs = []\n",
    "for idx in range(1, 37):\n",
    "    if idx not in exclude:\n",
    "        current_dir = str(idx)\n",
    "        if idx < 10:\n",
    "            current_dir = '0' + current_dir\n",
    "        DIR_SJs.append(current_dir)"
   ]
  },
  {
   "cell_type": "code",
   "execution_count": null,
   "metadata": {},
   "outputs": [],
   "source": [
    "def parse_file(DIR, DIR_SJ, series_n):\n",
    "    ''' Given a file path, extracts numerical information based on text file provided. Returns dataframe'''\n",
    "    filename = os.listdir(DIR + DIR_SJ)[series_n] # either the first or second series is extracted\n",
    "    file = open(DIR + DIR_SJ + filename) # open the file to be analysed\n",
    "    lines = file.readlines()\n",
    "    columns = lines[0].split() # take the first row as the column labels for dataframe\n",
    "    lines = lines[1:] # exclude first line which represents column labels\n",
    "    data = np.zeros((len(lines), 10)) # prepare dataframe to be appropriate size\n",
    "    for idx, line in enumerate(lines):\n",
    "        line = line.split() # get entries into different elements\n",
    "        # print(np.array(line).astype(np.float64))\n",
    "        data[idx, :] = np.array(line).astype(np.float64) # convert to numerical and store in array\n",
    "    file.close()\n",
    "    for ch in range(1, 9): # interpolate channel values as to make data regularly sampled\n",
    "        f = scipy.interpolate.interp1d(data[:, 0], data[:, ch], fill_value='extrapolate') # create interpolator based on regular data\n",
    "        data[:, ch] = f(list(range(data.shape[0])))\n",
    "    data[:, 0] = list(range(data.shape[0]))\n",
    "    df = pd.DataFrame(data=data, columns=columns)\n",
    "    df[['time', 'class']] = df[['time', 'class']].astype(np.int32) # convert timepoint and class columns to integer type\n",
    "    return df\n",
    "\n",
    "def extract_all_data(DIR, DIR_SJs):\n",
    "    ''' Extracts dataframe from every single subject and series of actions. '''\n",
    "    series_ns = [0,1] # possible series number\n",
    "    all_data = {DIR_SJ:[] for DIR_SJ in DIR_SJs} # initialise dictionary to contain data to be analysed\n",
    "    for DIR_SJ in DIR_SJs:\n",
    "        for series_n in series_ns:\n",
    "            df = parse_file(DIR, DIR_SJ, series_n) # get individual data file\n",
    "            all_data[DIR_SJ].append(df) # add df to the list of that particular subject\n",
    "    return all_data\n",
    "\n",
    "def plot_channels(df):\n",
    "    ''' Plots all channels in a given dataframe '''\n",
    "    plt.figure()\n",
    "    leg = []\n",
    "    for idx in range(1, 9):\n",
    "        plt.plot(df['time'], df['channel{}'.format(idx)])\n",
    "        leg.append('channel{}'.format(idx))\n",
    "    plt.xlabel('Time (ms)')\n",
    "    plt.ylabel('Voltage (V)')\n",
    "    plt.ylabel('Single Subject Data')\n",
    "    plt.legend(leg)\n",
    "    plt.show()"
   ]
  },
  {
   "cell_type": "code",
   "execution_count": null,
   "metadata": {},
   "outputs": [],
   "source": [
    "df = parse_file(DIR, '01/', 0)\n",
    "df"
   ]
  },
  {
   "cell_type": "code",
   "execution_count": null,
   "metadata": {},
   "outputs": [],
   "source": [
    "# Plot signals\n",
    "for DIR_SJ in DIR_SJs:\n",
    "    for series_n in range(2):\n",
    "        print(DIR_SJ, series_n) # determine which signals are definitely not okay to use\n",
    "        df = parse_file(DIR, DIR_SJ + '/', 0)\n",
    "        plot_channels(df)\n",
    "\n",
    "# # Plot class labels\n",
    "# plt.figure()\n",
    "# plt.plot(df['time'], df['class'])\n",
    "# plt.xlabel('Time (ms)')\n",
    "# plt.ylabel('Voltage (V)')\n",
    "# plt.ylabel('Single Subject Data')\n",
    "# plt.show()\n",
    "\n",
    "# Check that sampling rate matches expectations:\n",
    "print('Estimated Sampling Rate: ', df.shape[0]/df.loc[df.shape[0]-1, 'time'])"
   ]
  },
  {
   "attachments": {},
   "cell_type": "markdown",
   "metadata": {},
   "source": [
    "### Extracting windows from data"
   ]
  },
  {
   "cell_type": "code",
   "execution_count": null,
   "metadata": {},
   "outputs": [],
   "source": [
    "wsize = 250 # 250ms window size, as in Ecklehart & Hudgins\n"
   ]
  },
  {
   "cell_type": "code",
   "execution_count": null,
   "metadata": {},
   "outputs": [],
   "source": []
  }
 ],
 "metadata": {
  "kernelspec": {
   "display_name": "gesture-env",
   "language": "python",
   "name": "gesture-env"
  },
  "language_info": {
   "codemirror_mode": {
    "name": "ipython",
    "version": 3
   },
   "file_extension": ".py",
   "mimetype": "text/x-python",
   "name": "python",
   "nbconvert_exporter": "python",
   "pygments_lexer": "ipython3",
   "version": "3.8.10"
  },
  "orig_nbformat": 4,
  "vscode": {
   "interpreter": {
    "hash": "916dbcbb3f70747c44a77c7bcd40155683ae19c65e1c03b4aa3499c5328201f1"
   }
  }
 },
 "nbformat": 4,
 "nbformat_minor": 2
}
